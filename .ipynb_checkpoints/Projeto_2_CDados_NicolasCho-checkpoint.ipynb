{
 "cells": [
  {
   "cell_type": "markdown",
   "metadata": {},
   "source": [
    "# Projeto 2 - Ciência dos Dados "
   ]
  },
  {
   "cell_type": "markdown",
   "metadata": {},
   "source": [
    "nome: Nicolas Byung Kwan Cho"
   ]
  },
  {
   "cell_type": "markdown",
   "metadata": {},
   "source": [
    "O objetivo deste projeto é responder a pergunta: Com base nos dados de pluviosidade e temperatura na região de Campinas, como prever o número de casos de dengue?"
   ]
  },
  {
   "cell_type": "markdown",
   "metadata": {},
   "source": [
    "O dataset escolhido possui informações do número de caos confirmados de dengue na região de Campinas, assim como dados de chuva e temperaturas em determinada data (de 1998 a 2014)"
   ]
  },
  {
   "cell_type": "markdown",
   "metadata": {},
   "source": [
    "Com o dataset abaixo é fácil ver que nossa variável target apresenta-se na coluna de 'casos confirmados', sendo as outras colunas as features."
   ]
  },
  {
   "cell_type": "markdown",
   "metadata": {},
   "source": [
    "### Leitura do dataset"
   ]
  },
  {
   "cell_type": "code",
   "execution_count": 147,
   "metadata": {},
   "outputs": [],
   "source": [
    "#importando bibliotecas\n",
    "import pandas as pd\n",
    "import numpy as np\n",
    "import matplotlib.pyplot as plt\n",
    "import numpy as np\n",
    "from scipy import stats\n",
    "import statsmodels.api as sm\n",
    "from sklearn.model_selection import train_test_split"
   ]
  },
  {
   "cell_type": "code",
   "execution_count": 148,
   "metadata": {},
   "outputs": [],
   "source": [
    "#leitura do dataset\n",
    "dados = pd.read_csv('dengue-dataset.csv')"
   ]
  },
  {
   "cell_type": "code",
   "execution_count": 149,
   "metadata": {
    "scrolled": true
   },
   "outputs": [
    {
     "data": {
      "text/html": [
       "<div>\n",
       "<style scoped>\n",
       "    .dataframe tbody tr th:only-of-type {\n",
       "        vertical-align: middle;\n",
       "    }\n",
       "\n",
       "    .dataframe tbody tr th {\n",
       "        vertical-align: top;\n",
       "    }\n",
       "\n",
       "    .dataframe thead th {\n",
       "        text-align: right;\n",
       "    }\n",
       "</style>\n",
       "<table border=\"1\" class=\"dataframe\">\n",
       "  <thead>\n",
       "    <tr style=\"text-align: right;\">\n",
       "      <th></th>\n",
       "      <th>data</th>\n",
       "      <th>casos-confirmados</th>\n",
       "      <th>chuva</th>\n",
       "      <th>temperatura-media</th>\n",
       "      <th>temperatura-mininima</th>\n",
       "      <th>temperatura-maxima</th>\n",
       "    </tr>\n",
       "  </thead>\n",
       "  <tbody>\n",
       "    <tr>\n",
       "      <th>0</th>\n",
       "      <td>1998-01-01</td>\n",
       "      <td>237</td>\n",
       "      <td>179.2</td>\n",
       "      <td>25.7</td>\n",
       "      <td>20.2</td>\n",
       "      <td>28.1</td>\n",
       "    </tr>\n",
       "    <tr>\n",
       "      <th>1</th>\n",
       "      <td>1998-02-01</td>\n",
       "      <td>331</td>\n",
       "      <td>226.3</td>\n",
       "      <td>25.1</td>\n",
       "      <td>20.0</td>\n",
       "      <td>28.0</td>\n",
       "    </tr>\n",
       "    <tr>\n",
       "      <th>2</th>\n",
       "      <td>1998-03-01</td>\n",
       "      <td>562</td>\n",
       "      <td>149.1</td>\n",
       "      <td>24.8</td>\n",
       "      <td>22.4</td>\n",
       "      <td>27.2</td>\n",
       "    </tr>\n",
       "    <tr>\n",
       "      <th>3</th>\n",
       "      <td>1998-04-01</td>\n",
       "      <td>187</td>\n",
       "      <td>46.4</td>\n",
       "      <td>22.7</td>\n",
       "      <td>18.1</td>\n",
       "      <td>26.0</td>\n",
       "    </tr>\n",
       "    <tr>\n",
       "      <th>4</th>\n",
       "      <td>1998-05-01</td>\n",
       "      <td>32</td>\n",
       "      <td>88.3</td>\n",
       "      <td>19.2</td>\n",
       "      <td>15.7</td>\n",
       "      <td>22.9</td>\n",
       "    </tr>\n",
       "  </tbody>\n",
       "</table>\n",
       "</div>"
      ],
      "text/plain": [
       "         data  casos-confirmados  chuva  temperatura-media  \\\n",
       "0  1998-01-01                237  179.2               25.7   \n",
       "1  1998-02-01                331  226.3               25.1   \n",
       "2  1998-03-01                562  149.1               24.8   \n",
       "3  1998-04-01                187   46.4               22.7   \n",
       "4  1998-05-01                 32   88.3               19.2   \n",
       "\n",
       "   temperatura-mininima  temperatura-maxima  \n",
       "0                  20.2                28.1  \n",
       "1                  20.0                28.0  \n",
       "2                  22.4                27.2  \n",
       "3                  18.1                26.0  \n",
       "4                  15.7                22.9  "
      ]
     },
     "execution_count": 149,
     "metadata": {},
     "output_type": "execute_result"
    }
   ],
   "source": [
    "dados.head()"
   ]
  },
  {
   "cell_type": "markdown",
   "metadata": {},
   "source": [
    "Das colunas acima, chuva é medida em mm e os dados de temperatura em graus celsius"
   ]
  },
  {
   "cell_type": "markdown",
   "metadata": {},
   "source": [
    "Como em algumas datas não foram relatados os níveis de chuva, as linhas afetadas não participarão da análise, assim como as colunas de data e temperaturas máximas e mínimas que serão consideradas irrelevantes para os casos confirmados. Valores fora da curva também foram desconsiderados (outliers)"
   ]
  },
  {
   "cell_type": "code",
   "execution_count": 150,
   "metadata": {
    "scrolled": true
   },
   "outputs": [
    {
     "name": "stderr",
     "output_type": "stream",
     "text": [
      "C:\\Users\\nicol\\Anaconda3\\lib\\site-packages\\ipykernel_launcher.py:4: SettingWithCopyWarning: \n",
      "A value is trying to be set on a copy of a slice from a DataFrame\n",
      "\n",
      "See the caveats in the documentation: http://pandas.pydata.org/pandas-docs/stable/indexing.html#indexing-view-versus-copy\n",
      "  after removing the cwd from sys.path.\n",
      "C:\\Users\\nicol\\Anaconda3\\lib\\site-packages\\pandas\\core\\frame.py:3940: SettingWithCopyWarning: \n",
      "A value is trying to be set on a copy of a slice from a DataFrame\n",
      "\n",
      "See the caveats in the documentation: http://pandas.pydata.org/pandas-docs/stable/indexing.html#indexing-view-versus-copy\n",
      "  errors=errors)\n"
     ]
    }
   ],
   "source": [
    "limite = 10000\n",
    "dados_filtrados = dados[(dados[\"casos-confirmados\"] < limite) ]\n",
    "\n",
    "dados_filtrados.dropna(subset = ['chuva'], inplace=True)\n",
    "dados_filtrados.drop('data',inplace=True, axis=1) ###\n",
    "dados_filtrados.drop('temperatura-mininima',inplace=True, axis=1)\n",
    "dados_filtrados.drop('temperatura-maxima',inplace=True, axis=1)"
   ]
  },
  {
   "cell_type": "code",
   "execution_count": 151,
   "metadata": {
    "scrolled": true
   },
   "outputs": [
    {
     "data": {
      "text/html": [
       "<div>\n",
       "<style scoped>\n",
       "    .dataframe tbody tr th:only-of-type {\n",
       "        vertical-align: middle;\n",
       "    }\n",
       "\n",
       "    .dataframe tbody tr th {\n",
       "        vertical-align: top;\n",
       "    }\n",
       "\n",
       "    .dataframe thead th {\n",
       "        text-align: right;\n",
       "    }\n",
       "</style>\n",
       "<table border=\"1\" class=\"dataframe\">\n",
       "  <thead>\n",
       "    <tr style=\"text-align: right;\">\n",
       "      <th></th>\n",
       "      <th>casos-confirmados</th>\n",
       "      <th>chuva</th>\n",
       "      <th>temperatura-media</th>\n",
       "    </tr>\n",
       "  </thead>\n",
       "  <tbody>\n",
       "    <tr>\n",
       "      <th>0</th>\n",
       "      <td>237</td>\n",
       "      <td>179.2</td>\n",
       "      <td>25.7</td>\n",
       "    </tr>\n",
       "    <tr>\n",
       "      <th>1</th>\n",
       "      <td>331</td>\n",
       "      <td>226.3</td>\n",
       "      <td>25.1</td>\n",
       "    </tr>\n",
       "    <tr>\n",
       "      <th>2</th>\n",
       "      <td>562</td>\n",
       "      <td>149.1</td>\n",
       "      <td>24.8</td>\n",
       "    </tr>\n",
       "    <tr>\n",
       "      <th>3</th>\n",
       "      <td>187</td>\n",
       "      <td>46.4</td>\n",
       "      <td>22.7</td>\n",
       "    </tr>\n",
       "    <tr>\n",
       "      <th>4</th>\n",
       "      <td>32</td>\n",
       "      <td>88.3</td>\n",
       "      <td>19.2</td>\n",
       "    </tr>\n",
       "  </tbody>\n",
       "</table>\n",
       "</div>"
      ],
      "text/plain": [
       "   casos-confirmados  chuva  temperatura-media\n",
       "0                237  179.2               25.7\n",
       "1                331  226.3               25.1\n",
       "2                562  149.1               24.8\n",
       "3                187   46.4               22.7\n",
       "4                 32   88.3               19.2"
      ]
     },
     "execution_count": 151,
     "metadata": {},
     "output_type": "execute_result"
    }
   ],
   "source": [
    "dados_filtrados.head()"
   ]
  },
  {
   "cell_type": "markdown",
   "metadata": {},
   "source": [
    "## Análise exploratória"
   ]
  },
  {
   "cell_type": "markdown",
   "metadata": {},
   "source": [
    "Analisando as medidas de cada variavel:"
   ]
  },
  {
   "cell_type": "code",
   "execution_count": 152,
   "metadata": {},
   "outputs": [
    {
     "name": "stdout",
     "output_type": "stream",
     "text": [
      "Medidas a respeito do número de casos confirmados:\n"
     ]
    },
    {
     "data": {
      "text/plain": [
       "count     194.000000\n",
       "mean      216.108247\n",
       "std       739.985985\n",
       "min         0.000000\n",
       "25%         6.000000\n",
       "50%        20.500000\n",
       "75%        85.500000\n",
       "max      7555.000000\n",
       "Name: casos-confirmados, dtype: float64"
      ]
     },
     "execution_count": 152,
     "metadata": {},
     "output_type": "execute_result"
    }
   ],
   "source": [
    "#Para os casos confirmados\n",
    "print('Medidas a respeito do número de casos confirmados:')\n",
    "dados_filtrados['casos-confirmados'].describe()"
   ]
  },
  {
   "cell_type": "code",
   "execution_count": 153,
   "metadata": {},
   "outputs": [
    {
     "name": "stdout",
     "output_type": "stream",
     "text": [
      "Medidas a respeito da chuva:\n"
     ]
    },
    {
     "data": {
      "text/plain": [
       "count    194.000000\n",
       "mean     117.415464\n",
       "std       96.813080\n",
       "min        0.800000\n",
       "25%       44.375000\n",
       "50%       87.700000\n",
       "75%      178.775000\n",
       "max      452.800000\n",
       "Name: chuva, dtype: float64"
      ]
     },
     "execution_count": 153,
     "metadata": {},
     "output_type": "execute_result"
    }
   ],
   "source": [
    "#Para os dados da chuva\n",
    "print('Medidas a respeito da chuva:')\n",
    "dados_filtrados['chuva'].describe()"
   ]
  },
  {
   "cell_type": "code",
   "execution_count": 154,
   "metadata": {},
   "outputs": [
    {
     "name": "stdout",
     "output_type": "stream",
     "text": [
      "Medidas a respeito da temperatura:\n"
     ]
    },
    {
     "data": {
      "text/plain": [
       "count    194.000000\n",
       "mean      22.298454\n",
       "std        2.410093\n",
       "min       16.400000\n",
       "25%       20.250000\n",
       "50%       22.800000\n",
       "75%       24.300000\n",
       "max       27.200000\n",
       "Name: temperatura-media, dtype: float64"
      ]
     },
     "execution_count": 154,
     "metadata": {},
     "output_type": "execute_result"
    }
   ],
   "source": [
    "#Para os dados de temperatura\n",
    "print('Medidas a respeito da temperatura:')\n",
    "dados_filtrados['temperatura-media'].describe()"
   ]
  },
  {
   "cell_type": "markdown",
   "metadata": {},
   "source": [
    "Devemos então analisar como a variável target se comporta em relação as suas features"
   ]
  },
  {
   "cell_type": "markdown",
   "metadata": {},
   "source": [
    "#### Casos x Chuva"
   ]
  },
  {
   "cell_type": "code",
   "execution_count": 155,
   "metadata": {},
   "outputs": [
    {
     "name": "stdout",
     "output_type": "stream",
     "text": [
      "Covariância entre número de casos e volume de chuva: -3788.2783665402508\n"
     ]
    }
   ],
   "source": [
    "#COVARIÂNCIA\n",
    "cov_chuva = dados_filtrados['casos-confirmados'].cov(dados_filtrados['chuva'])\n",
    "print('Covariância entre número de casos e volume de chuva:', cov_chuva)"
   ]
  },
  {
   "cell_type": "code",
   "execution_count": 156,
   "metadata": {},
   "outputs": [
    {
     "name": "stdout",
     "output_type": "stream",
     "text": [
      "Correlação entre número de casos e volume de chuva: -0.05287913641651854\n"
     ]
    }
   ],
   "source": [
    "#CORRELAÇÃO\n",
    "corr_chuva = dados_filtrados['casos-confirmados'].corr(dados_filtrados['chuva'])\n",
    "print('Correlação entre número de casos e volume de chuva:', corr_chuva)"
   ]
  },
  {
   "cell_type": "code",
   "execution_count": 157,
   "metadata": {
    "scrolled": true
   },
   "outputs": [
    {
     "data": {
      "image/png": "[encoded data removed]",
      "text/plain": [
       "<Figure size 432x288 with 1 Axes>"
      ]
     },
     "metadata": {
      "needs_background": "light"
     },
     "output_type": "display_data"
    }
   ],
   "source": [
    "#HISTOGRAMA\n",
    "plt.scatter(dados_filtrados['chuva'], dados_filtrados['casos-confirmados'])\n",
    "plt.title('Número de casos pelo volume de chuva')\n",
    "plt.xlabel('Volume de chuva em mm')\n",
    "plt.ylabel('Número de casos de Dengue')\n",
    "plt.show()"
   ]
  },
  {
   "cell_type": "markdown",
   "metadata": {},
   "source": [
    "Analisando as duas variáveis no tempo"
   ]
  },
  {
   "cell_type": "code",
   "execution_count": 158,
   "metadata": {},
   "outputs": [],
   "source": [
    "x = []\n",
    "for i in range(0,len(dados_filtrados['chuva'])):\n",
    "    x.append(i)"
   ]
  },
  {
   "cell_type": "code",
   "execution_count": 159,
   "metadata": {},
   "outputs": [
    {
     "data": {
      "image/png": "[encoded data removed]",
      "text/plain": [
       "<Figure size 432x288 with 2 Axes>"
      ]
     },
     "metadata": {
      "needs_background": "light"
     },
     "output_type": "display_data"
    }
   ],
   "source": [
    "fig, ax1 = plt.subplots()\n",
    "\n",
    "ax1.set_xlabel('Indice da linha')\n",
    "ax1.set_ylabel('casos', color='tab:red')\n",
    "ax1.plot(x, dados_filtrados['casos-confirmados'], color='tab:red')\n",
    "ax1.tick_params(axis='y', labelcolor='tab:red')\n",
    "\n",
    "ax2 = ax1.twinx()  \n",
    "\n",
    "color = 'tab:blue'\n",
    "ax2.set_ylabel('chuva', color='tab:blue') \n",
    "ax2.plot(x, dados_filtrados['chuva'], color='tab:blue')\n",
    "ax2.tick_params(axis='y', labelcolor='tab:blue')\n",
    "\n",
    "fig.tight_layout() \n",
    "plt.title('Comparação de casos pela chuva no tempo')\n",
    "plt.show()"
   ]
  },
  {
   "cell_type": "markdown",
   "metadata": {},
   "source": [
    "Dos dados acima percebe-se que o indice de correlação entre as variáveis é baixo. Mas ao analisar no gráfico, é possível identificar um atraso no número de casos em relação a chuva. Ou seja, após períodos de muita chuva há um intervalo de tempo até que o número de casos aumente. Isso pode ter acontecido, pois o ciclo de reprodução do Aedes aegypti não é instantâneo, levando um tempo até que nascam novos vetores. Além disso, pode-se considerar o tempo detecção da doença que não é imediata. Logo é proposto um 'delay' na variável de casos."
   ]
  },
  {
   "cell_type": "code",
   "execution_count": 160,
   "metadata": {
    "scrolled": true
   },
   "outputs": [],
   "source": [
    "dados_filtrados_delay_casos = dados_filtrados.copy()\n",
    "dados_filtrados_delay_casos['casos-confirmados'] = dados_filtrados_delay_casos['casos-confirmados'].shift(-2)\n",
    "dados_filtrados_delay_casos.dropna(subset = ['casos-confirmados'], inplace=True)"
   ]
  },
  {
   "cell_type": "code",
   "execution_count": 161,
   "metadata": {},
   "outputs": [
    {
     "name": "stdout",
     "output_type": "stream",
     "text": [
      "Nova covariância entre número de casos e volume de chuva: 12906.684167757421\n"
     ]
    }
   ],
   "source": [
    "#NOVA COVARIANCIA\n",
    "nova_cov_chuva = dados_filtrados_delay_casos['casos-confirmados'].cov(dados_filtrados_delay_casos['chuva'])\n",
    "print('Nova covariância entre número de casos e volume de chuva:', nova_cov_chuva)"
   ]
  },
  {
   "cell_type": "code",
   "execution_count": 162,
   "metadata": {},
   "outputs": [
    {
     "name": "stdout",
     "output_type": "stream",
     "text": [
      "Nova correlação entre número de casos e volume de chuva: 0.17903968485091817\n"
     ]
    }
   ],
   "source": [
    "# NOVA CORRELAÇÃO\n",
    "nova_corr_chuva = dados_filtrados_delay_casos['casos-confirmados'].corr(dados_filtrados_delay_casos['chuva'])\n",
    "print('Nova correlação entre número de casos e volume de chuva:', nova_corr_chuva)"
   ]
  },
  {
   "cell_type": "code",
   "execution_count": 163,
   "metadata": {
    "scrolled": true
   },
   "outputs": [
    {
     "data": {
      "image/png": "[encoded data removed]",
      "text/plain": [
       "<Figure size 432x288 with 1 Axes>"
      ]
     },
     "metadata": {
      "needs_background": "light"
     },
     "output_type": "display_data"
    }
   ],
   "source": [
    "# NOVO HISTOGRAMA\n",
    "plt.scatter(dados_filtrados_delay_casos['chuva'], dados_filtrados_delay_casos['casos-confirmados'])\n",
    "plt.title('Número de casos pelo volume de chuva (atraso aplicado)')\n",
    "plt.xlabel('Volume de chuva em mm')\n",
    "plt.ylabel('Número de casos de Dengue')\n",
    "plt.show()"
   ]
  },
  {
   "cell_type": "code",
   "execution_count": 164,
   "metadata": {},
   "outputs": [],
   "source": [
    "x_delay = []\n",
    "for i in range(0,len(dados_filtrados_delay_casos['chuva'])):\n",
    "    x_delay.append(i)"
   ]
  },
  {
   "cell_type": "code",
   "execution_count": 165,
   "metadata": {},
   "outputs": [
    {
     "data": {
      "image/png": "[encoded data removed]",
      "text/plain": [
       "<Figure size 432x288 with 2 Axes>"
      ]
     },
     "metadata": {
      "needs_background": "light"
     },
     "output_type": "display_data"
    }
   ],
   "source": [
    "fig, ax1 = plt.subplots()\n",
    "\n",
    "ax1.set_xlabel('Indice da linha')\n",
    "ax1.set_ylabel('casos', color='tab:red')\n",
    "ax1.plot(x_delay, dados_filtrados_delay_casos['casos-confirmados'], color='tab:red')\n",
    "ax1.tick_params(axis='y', labelcolor='tab:red')\n",
    "\n",
    "ax2 = ax1.twinx()  \n",
    "\n",
    "color = 'tab:blue'\n",
    "ax2.set_ylabel('temperatura', color='tab:blue')  \n",
    "ax2.plot(x_delay, dados_filtrados_delay_casos['chuva'], color='tab:blue')\n",
    "ax2.tick_params(axis='y', labelcolor='tab:blue')\n",
    "\n",
    "fig.tight_layout() \n",
    "plt.title('Comparação de casos pela chuva no tempo (atraso aplicado)')\n",
    "plt.show()"
   ]
  },
  {
   "cell_type": "markdown",
   "metadata": {},
   "source": [
    "#### Casos x Temperatura"
   ]
  },
  {
   "cell_type": "code",
   "execution_count": 166,
   "metadata": {},
   "outputs": [
    {
     "name": "stdout",
     "output_type": "stream",
     "text": [
      "Covariância entre número de casos e temperatura media: 200.83799209443936\n"
     ]
    }
   ],
   "source": [
    "#COVARIANCIA\n",
    "cov_temp = dados_filtrados['casos-confirmados'].cov(dados_filtrados['temperatura-media'])\n",
    "print('Covariância entre número de casos e temperatura media:', cov_temp)"
   ]
  },
  {
   "cell_type": "code",
   "execution_count": 167,
   "metadata": {
    "scrolled": true
   },
   "outputs": [
    {
     "name": "stdout",
     "output_type": "stream",
     "text": [
      "Correlação entre número de casos e temperatura media: 0.11261302622561715\n"
     ]
    }
   ],
   "source": [
    "#CORRELAÇÃO\n",
    "corr_temp = dados_filtrados['casos-confirmados'].corr(dados_filtrados['temperatura-media'])\n",
    "print('Correlação entre número de casos e temperatura media:', corr_temp)"
   ]
  },
  {
   "cell_type": "code",
   "execution_count": 168,
   "metadata": {},
   "outputs": [
    {
     "data": {
      "image/png": "[encoded data removed]",
      "text/plain": [
       "<Figure size 432x288 with 1 Axes>"
      ]
     },
     "metadata": {
      "needs_background": "light"
     },
     "output_type": "display_data"
    }
   ],
   "source": [
    "#HISTOGRAMA\n",
    "plt.scatter(dados_filtrados['temperatura-media'], dados_filtrados['casos-confirmados'])\n",
    "plt.title('Número de casos pela temperatura média')\n",
    "plt.xlabel('Temperatura em  °C')\n",
    "plt.ylabel('Número de casos de Dengue')\n",
    "plt.show()"
   ]
  },
  {
   "cell_type": "markdown",
   "metadata": {},
   "source": [
    "Analisando as duas variáveis no tempo"
   ]
  },
  {
   "cell_type": "code",
   "execution_count": 169,
   "metadata": {},
   "outputs": [
    {
     "data": {
      "image/png": "[encoded data removed]",
      "text/plain": [
       "<Figure size 432x288 with 2 Axes>"
      ]
     },
     "metadata": {
      "needs_background": "light"
     },
     "output_type": "display_data"
    }
   ],
   "source": [
    "fig, ax1 = plt.subplots()\n",
    "\n",
    "ax1.set_xlabel('Indice da linha')\n",
    "ax1.set_ylabel('casos', color='tab:red')\n",
    "ax1.plot(x, dados_filtrados['casos-confirmados'], color='tab:red')\n",
    "ax1.tick_params(axis='y', labelcolor='tab:red')\n",
    "\n",
    "ax2 = ax1.twinx()  \n",
    "\n",
    "color = 'tab:blue'\n",
    "ax2.set_ylabel('temperatura', color='tab:blue')\n",
    "ax2.plot(x, dados_filtrados['temperatura-media'], color='tab:blue')\n",
    "ax2.tick_params(axis='y', labelcolor='tab:blue')\n",
    "\n",
    "fig.tight_layout() \n",
    "plt.title('Comparação de casos pela temperatura média')\n",
    "plt.show()"
   ]
  },
  {
   "cell_type": "markdown",
   "metadata": {},
   "source": [
    "Assim como foi feito com a variável da chuva, o mesmo 'delay' será considerado com a temperatura média"
   ]
  },
  {
   "cell_type": "code",
   "execution_count": 170,
   "metadata": {},
   "outputs": [
    {
     "name": "stdout",
     "output_type": "stream",
     "text": [
      "Nova covariância entre número de casos e temperatura media: 552.9510253054102\n"
     ]
    }
   ],
   "source": [
    "#NOVA COVARIANCIA\n",
    "nova_cov_temp = dados_filtrados_delay_casos['casos-confirmados'].cov(dados_filtrados_delay_casos['temperatura-media'])\n",
    "print('Nova covariância entre número de casos e temperatura media:', nova_cov_temp)"
   ]
  },
  {
   "cell_type": "code",
   "execution_count": 171,
   "metadata": {},
   "outputs": [
    {
     "name": "stdout",
     "output_type": "stream",
     "text": [
      "Nova correlação entre número de casos e temperatura media: 0.30881922982766663\n"
     ]
    }
   ],
   "source": [
    "# NOVA CORRELAÇÃO\n",
    "nova_corr_temp = dados_filtrados_delay_casos['casos-confirmados'].corr(dados_filtrados_delay_casos['temperatura-media'])\n",
    "print('Nova correlação entre número de casos e temperatura media:', nova_corr_temp)"
   ]
  },
  {
   "cell_type": "code",
   "execution_count": 172,
   "metadata": {},
   "outputs": [
    {
     "data": {
      "image/png": "[encoded data removed]",
      "text/plain": [
       "<Figure size 432x288 with 1 Axes>"
      ]
     },
     "metadata": {
      "needs_background": "light"
     },
     "output_type": "display_data"
    }
   ],
   "source": [
    "# NOVO HISTOGRAMA\n",
    "plt.scatter(dados_filtrados_delay_casos['chuva'], dados_filtrados_delay_casos['temperatura-media'])\n",
    "plt.title('Número de casos pela temperatura média (atraso aplicado)')\n",
    "plt.xlabel('Temperatura em  °C')\n",
    "plt.ylabel('Número de casos de Dengue')\n",
    "plt.show()"
   ]
  },
  {
   "cell_type": "code",
   "execution_count": 173,
   "metadata": {},
   "outputs": [
    {
     "data": {
      "image/png": "[encoded data removed]",
      "text/plain": [
       "<Figure size 432x288 with 2 Axes>"
      ]
     },
     "metadata": {
      "needs_background": "light"
     },
     "output_type": "display_data"
    }
   ],
   "source": [
    "fig, ax1 = plt.subplots()\n",
    "\n",
    "ax1.set_xlabel('Indice da linha')\n",
    "ax1.set_ylabel('casos', color='tab:red')\n",
    "ax1.plot(x_delay, dados_filtrados_delay_casos['casos-confirmados'], color='tab:red')\n",
    "ax1.tick_params(axis='y', labelcolor='tab:red')\n",
    "\n",
    "ax2 = ax1.twinx()  \n",
    "\n",
    "color = 'tab:blue'\n",
    "ax2.set_ylabel('temperatura', color='tab:blue')  \n",
    "ax2.plot(x_delay, dados_filtrados_delay_casos['temperatura-media'], color='tab:blue')\n",
    "ax2.tick_params(axis='y', labelcolor='tab:blue')\n",
    "\n",
    "fig.tight_layout() \n",
    "plt.title('Comparação de casos pela temperatura média no tempo (atraso aplicado)')\n",
    "plt.show()"
   ]
  },
  {
   "cell_type": "markdown",
   "metadata": {},
   "source": [
    "### Separando dados de treinamento e teste"
   ]
  },
  {
   "cell_type": "markdown",
   "metadata": {},
   "source": [
    "Utilizando a biblioteca scikit-learn para serparar entre teste e treino"
   ]
  },
  {
   "cell_type": "code",
   "execution_count": 174,
   "metadata": {},
   "outputs": [
    {
     "data": {
      "text/plain": [
       "(153, 39)"
      ]
     },
     "execution_count": 174,
     "metadata": {},
     "output_type": "execute_result"
    }
   ],
   "source": [
    "train, test = train_test_split(dados_filtrados_delay_casos, test_size=0.2)\n",
    "len(train), len(test)"
   ]
  },
  {
   "cell_type": "code",
   "execution_count": 175,
   "metadata": {},
   "outputs": [
    {
     "data": {
      "text/html": [
       "<div>\n",
       "<style scoped>\n",
       "    .dataframe tbody tr th:only-of-type {\n",
       "        vertical-align: middle;\n",
       "    }\n",
       "\n",
       "    .dataframe tbody tr th {\n",
       "        vertical-align: top;\n",
       "    }\n",
       "\n",
       "    .dataframe thead th {\n",
       "        text-align: right;\n",
       "    }\n",
       "</style>\n",
       "<table border=\"1\" class=\"dataframe\">\n",
       "  <thead>\n",
       "    <tr style=\"text-align: right;\">\n",
       "      <th></th>\n",
       "      <th>casos-confirmados</th>\n",
       "      <th>chuva</th>\n",
       "      <th>temperatura-media</th>\n",
       "    </tr>\n",
       "  </thead>\n",
       "  <tbody>\n",
       "    <tr>\n",
       "      <th>199</th>\n",
       "      <td>40.0</td>\n",
       "      <td>12.2</td>\n",
       "      <td>20.6</td>\n",
       "    </tr>\n",
       "    <tr>\n",
       "      <th>59</th>\n",
       "      <td>91.0</td>\n",
       "      <td>162.6</td>\n",
       "      <td>25.3</td>\n",
       "    </tr>\n",
       "    <tr>\n",
       "      <th>40</th>\n",
       "      <td>13.0</td>\n",
       "      <td>89.9</td>\n",
       "      <td>19.3</td>\n",
       "    </tr>\n",
       "    <tr>\n",
       "      <th>0</th>\n",
       "      <td>562.0</td>\n",
       "      <td>179.2</td>\n",
       "      <td>25.7</td>\n",
       "    </tr>\n",
       "    <tr>\n",
       "      <th>164</th>\n",
       "      <td>22.0</td>\n",
       "      <td>15.6</td>\n",
       "      <td>21.4</td>\n",
       "    </tr>\n",
       "  </tbody>\n",
       "</table>\n",
       "</div>"
      ],
      "text/plain": [
       "     casos-confirmados  chuva  temperatura-media\n",
       "199               40.0   12.2               20.6\n",
       "59                91.0  162.6               25.3\n",
       "40                13.0   89.9               19.3\n",
       "0                562.0  179.2               25.7\n",
       "164               22.0   15.6               21.4"
      ]
     },
     "execution_count": 175,
     "metadata": {},
     "output_type": "execute_result"
    }
   ],
   "source": [
    "train.head()"
   ]
  },
  {
   "cell_type": "code",
   "execution_count": 176,
   "metadata": {},
   "outputs": [
    {
     "data": {
      "text/html": [
       "<div>\n",
       "<style scoped>\n",
       "    .dataframe tbody tr th:only-of-type {\n",
       "        vertical-align: middle;\n",
       "    }\n",
       "\n",
       "    .dataframe tbody tr th {\n",
       "        vertical-align: top;\n",
       "    }\n",
       "\n",
       "    .dataframe thead th {\n",
       "        text-align: right;\n",
       "    }\n",
       "</style>\n",
       "<table border=\"1\" class=\"dataframe\">\n",
       "  <thead>\n",
       "    <tr style=\"text-align: right;\">\n",
       "      <th></th>\n",
       "      <th>casos-confirmados</th>\n",
       "      <th>chuva</th>\n",
       "      <th>temperatura-media</th>\n",
       "    </tr>\n",
       "  </thead>\n",
       "  <tbody>\n",
       "    <tr>\n",
       "      <th>68</th>\n",
       "      <td>0.0</td>\n",
       "      <td>20.5</td>\n",
       "      <td>22.0</td>\n",
       "    </tr>\n",
       "    <tr>\n",
       "      <th>110</th>\n",
       "      <td>2364.0</td>\n",
       "      <td>192.1</td>\n",
       "      <td>25.5</td>\n",
       "    </tr>\n",
       "    <tr>\n",
       "      <th>143</th>\n",
       "      <td>249.0</td>\n",
       "      <td>398.8</td>\n",
       "      <td>22.7</td>\n",
       "    </tr>\n",
       "    <tr>\n",
       "      <th>157</th>\n",
       "      <td>1202.0</td>\n",
       "      <td>166.8</td>\n",
       "      <td>24.9</td>\n",
       "    </tr>\n",
       "    <tr>\n",
       "      <th>46</th>\n",
       "      <td>224.0</td>\n",
       "      <td>104.4</td>\n",
       "      <td>24.2</td>\n",
       "    </tr>\n",
       "  </tbody>\n",
       "</table>\n",
       "</div>"
      ],
      "text/plain": [
       "     casos-confirmados  chuva  temperatura-media\n",
       "68                 0.0   20.5               22.0\n",
       "110             2364.0  192.1               25.5\n",
       "143              249.0  398.8               22.7\n",
       "157             1202.0  166.8               24.9\n",
       "46               224.0  104.4               24.2"
      ]
     },
     "execution_count": 176,
     "metadata": {},
     "output_type": "execute_result"
    }
   ],
   "source": [
    "test.head()"
   ]
  },
  {
   "cell_type": "markdown",
   "metadata": {},
   "source": [
    "### Modelo de regressão linear"
   ]
  },
  {
   "cell_type": "markdown",
   "metadata": {},
   "source": [
    "Analise por meio do statsmodel.OLS"
   ]
  },
  {
   "cell_type": "code",
   "execution_count": 177,
   "metadata": {
    "scrolled": false
   },
   "outputs": [
    {
     "name": "stderr",
     "output_type": "stream",
     "text": [
      "C:\\Users\\nicol\\Anaconda3\\lib\\site-packages\\numpy\\core\\fromnumeric.py:2389: FutureWarning: Method .ptp is deprecated and will be removed in a future version. Use numpy.ptp instead.\n",
      "  return ptp(axis=axis, out=out, **kwargs)\n"
     ]
    },
    {
     "data": {
      "text/html": [
       "<table class=\"simpletable\">\n",
       "<caption>OLS Regression Results</caption>\n",
       "<tr>\n",
       "  <th>Dep. Variable:</th>    <td>casos-confirmados</td> <th>  R-squared:         </th> <td>   0.092</td>\n",
       "</tr>\n",
       "<tr>\n",
       "  <th>Model:</th>                   <td>OLS</td>        <th>  Adj. R-squared:    </th> <td>   0.080</td>\n",
       "</tr>\n",
       "<tr>\n",
       "  <th>Method:</th>             <td>Least Squares</td>   <th>  F-statistic:       </th> <td>   7.577</td>\n",
       "</tr>\n",
       "<tr>\n",
       "  <th>Date:</th>             <td>Tue, 17 Nov 2020</td>  <th>  Prob (F-statistic):</th> <td>0.000733</td>\n",
       "</tr>\n",
       "<tr>\n",
       "  <th>Time:</th>                 <td>23:55:25</td>      <th>  Log-Likelihood:    </th> <td> -1219.2</td>\n",
       "</tr>\n",
       "<tr>\n",
       "  <th>No. Observations:</th>      <td>   153</td>       <th>  AIC:               </th> <td>   2444.</td>\n",
       "</tr>\n",
       "<tr>\n",
       "  <th>Df Residuals:</th>          <td>   150</td>       <th>  BIC:               </th> <td>   2454.</td>\n",
       "</tr>\n",
       "<tr>\n",
       "  <th>Df Model:</th>              <td>     2</td>       <th>                     </th>     <td> </td>   \n",
       "</tr>\n",
       "<tr>\n",
       "  <th>Covariance Type:</th>      <td>nonrobust</td>     <th>                     </th>     <td> </td>   \n",
       "</tr>\n",
       "</table>\n",
       "<table class=\"simpletable\">\n",
       "<tr>\n",
       "          <td></td>             <th>coef</th>     <th>std err</th>      <th>t</th>      <th>P>|t|</th>  <th>[0.025</th>    <th>0.975]</th>  \n",
       "</tr>\n",
       "<tr>\n",
       "  <th>const</th>             <td>-1527.6394</td> <td>  573.831</td> <td>   -2.662</td> <td> 0.009</td> <td>-2661.475</td> <td> -393.804</td>\n",
       "</tr>\n",
       "<tr>\n",
       "  <th>temperatura-media</th> <td>   73.5930</td> <td>   27.274</td> <td>    2.698</td> <td> 0.008</td> <td>   19.702</td> <td>  127.484</td>\n",
       "</tr>\n",
       "<tr>\n",
       "  <th>chuva</th>             <td>    0.8072</td> <td>    0.722</td> <td>    1.119</td> <td> 0.265</td> <td>   -0.619</td> <td>    2.233</td>\n",
       "</tr>\n",
       "</table>\n",
       "<table class=\"simpletable\">\n",
       "<tr>\n",
       "  <th>Omnibus:</th>       <td>248.691</td> <th>  Durbin-Watson:     </th> <td>   2.038</td> \n",
       "</tr>\n",
       "<tr>\n",
       "  <th>Prob(Omnibus):</th> <td> 0.000</td>  <th>  Jarque-Bera (JB):  </th> <td>27870.617</td>\n",
       "</tr>\n",
       "<tr>\n",
       "  <th>Skew:</th>          <td> 7.190</td>  <th>  Prob(JB):          </th> <td>    0.00</td> \n",
       "</tr>\n",
       "<tr>\n",
       "  <th>Kurtosis:</th>      <td>67.537</td>  <th>  Cond. No.          </th> <td>1.43e+03</td> \n",
       "</tr>\n",
       "</table><br/><br/>Warnings:<br/>[1] Standard Errors assume that the covariance matrix of the errors is correctly specified.<br/>[2] The condition number is large, 1.43e+03. This might indicate that there are<br/>strong multicollinearity or other numerical problems."
      ],
      "text/plain": [
       "<class 'statsmodels.iolib.summary.Summary'>\n",
       "\"\"\"\n",
       "                            OLS Regression Results                            \n",
       "==============================================================================\n",
       "Dep. Variable:      casos-confirmados   R-squared:                       0.092\n",
       "Model:                            OLS   Adj. R-squared:                  0.080\n",
       "Method:                 Least Squares   F-statistic:                     7.577\n",
       "Date:                Tue, 17 Nov 2020   Prob (F-statistic):           0.000733\n",
       "Time:                        23:55:25   Log-Likelihood:                -1219.2\n",
       "No. Observations:                 153   AIC:                             2444.\n",
       "Df Residuals:                     150   BIC:                             2454.\n",
       "Df Model:                           2                                         \n",
       "Covariance Type:            nonrobust                                         \n",
       "=====================================================================================\n",
       "                        coef    std err          t      P>|t|      [0.025      0.975]\n",
       "-------------------------------------------------------------------------------------\n",
       "const             -1527.6394    573.831     -2.662      0.009   -2661.475    -393.804\n",
       "temperatura-media    73.5930     27.274      2.698      0.008      19.702     127.484\n",
       "chuva                 0.8072      0.722      1.119      0.265      -0.619       2.233\n",
       "==============================================================================\n",
       "Omnibus:                      248.691   Durbin-Watson:                   2.038\n",
       "Prob(Omnibus):                  0.000   Jarque-Bera (JB):            27870.617\n",
       "Skew:                           7.190   Prob(JB):                         0.00\n",
       "Kurtosis:                      67.537   Cond. No.                     1.43e+03\n",
       "==============================================================================\n",
       "\n",
       "Warnings:\n",
       "[1] Standard Errors assume that the covariance matrix of the errors is correctly specified.\n",
       "[2] The condition number is large, 1.43e+03. This might indicate that there are\n",
       "strong multicollinearity or other numerical problems.\n",
       "\"\"\""
      ]
     },
     "execution_count": 177,
     "metadata": {},
     "output_type": "execute_result"
    }
   ],
   "source": [
    "y = train['casos-confirmados']\n",
    "X = train[['temperatura-media','chuva']]\n",
    "\n",
    "X = sm.add_constant(X)\n",
    "model = sm.OLS(y,X)\n",
    "results = model.fit()\n",
    "results.summary()"
   ]
  },
  {
   "cell_type": "markdown",
   "metadata": {},
   "source": [
    "Percebe-se que o modelo não está muito bem ajustado para a regressão linear. Utiliza-se a escala logaritmica nas variáveis de forma a melhorar a previsão"
   ]
  },
  {
   "cell_type": "code",
   "execution_count": 178,
   "metadata": {
    "scrolled": true
   },
   "outputs": [
    {
     "name": "stderr",
     "output_type": "stream",
     "text": [
      "C:\\Users\\nicol\\Anaconda3\\lib\\site-packages\\ipykernel_launcher.py:2: RuntimeWarning: divide by zero encountered in log\n",
      "  \n",
      "C:\\Users\\nicol\\Anaconda3\\lib\\site-packages\\ipykernel_launcher.py:2: SettingWithCopyWarning: \n",
      "A value is trying to be set on a copy of a slice from a DataFrame.\n",
      "Try using .loc[row_indexer,col_indexer] = value instead\n",
      "\n",
      "See the caveats in the documentation: http://pandas.pydata.org/pandas-docs/stable/indexing.html#indexing-view-versus-copy\n",
      "  \n",
      "C:\\Users\\nicol\\Anaconda3\\lib\\site-packages\\ipykernel_launcher.py:3: SettingWithCopyWarning: \n",
      "A value is trying to be set on a copy of a slice from a DataFrame.\n",
      "Try using .loc[row_indexer,col_indexer] = value instead\n",
      "\n",
      "See the caveats in the documentation: http://pandas.pydata.org/pandas-docs/stable/indexing.html#indexing-view-versus-copy\n",
      "  This is separate from the ipykernel package so we can avoid doing imports until\n",
      "C:\\Users\\nicol\\Anaconda3\\lib\\site-packages\\ipykernel_launcher.py:4: SettingWithCopyWarning: \n",
      "A value is trying to be set on a copy of a slice from a DataFrame.\n",
      "Try using .loc[row_indexer,col_indexer] = value instead\n",
      "\n",
      "See the caveats in the documentation: http://pandas.pydata.org/pandas-docs/stable/indexing.html#indexing-view-versus-copy\n",
      "  after removing the cwd from sys.path.\n"
     ]
    }
   ],
   "source": [
    "#log\n",
    "train['log_casos-confirmados']=np.log(train['casos-confirmados'])\n",
    "train['log_temperatura-media']=np.log(train['temperatura-media'])\n",
    "train['log_chuva']=np.log(train['chuva'])\n",
    "\n",
    "logx = train['log_chuva']\n",
    "logy = train['log_casos-confirmados']\n",
    "logz = train['log_temperatura-media']"
   ]
  },
  {
   "cell_type": "code",
   "execution_count": 179,
   "metadata": {
    "scrolled": true
   },
   "outputs": [],
   "source": [
    "#FILTRANDO OS VALORES INFINITOS NOS CASOS CONFIRMADOS EM ESCALA LOG\n",
    "train = train.replace([np.inf, -np.inf], np.nan)\n",
    "train.dropna(subset = ['log_casos-confirmados'], inplace=True)"
   ]
  },
  {
   "cell_type": "code",
   "execution_count": 180,
   "metadata": {
    "scrolled": true
   },
   "outputs": [
    {
     "data": {
      "image/png": "[encoded data removed]",
      "text/plain": [
       "<Figure size 432x288 with 1 Axes>"
      ]
     },
     "metadata": {
      "needs_background": "light"
     },
     "output_type": "display_data"
    }
   ],
   "source": [
    "plt.scatter(logx,logy)\n",
    "plt.title('Casos confirmados por volume de chuva(escala logarítmica)')\n",
    "plt.xlabel('Volume de chuva')\n",
    "plt.ylabel('Número de casos')\n",
    "plt.show()"
   ]
  },
  {
   "cell_type": "code",
   "execution_count": 181,
   "metadata": {},
   "outputs": [
    {
     "name": "stdout",
     "output_type": "stream",
     "text": [
      "Correlação entre número de casos e volume de chuva em escala logarítmica: 0.37828992157797936\n"
     ]
    }
   ],
   "source": [
    "#CORRELAÇÃO COM A CHUVA EM ESCALA LOGARÍTMICA\n",
    "log_corr_chuva = train['log_casos-confirmados'].corr(train['log_chuva'])\n",
    "print('Correlação entre número de casos e volume de chuva em escala logarítmica:', log_corr_chuva)"
   ]
  },
  {
   "cell_type": "code",
   "execution_count": 182,
   "metadata": {},
   "outputs": [
    {
     "data": {
      "image/png": "[encoded data removed]",
      "text/plain": [
       "<Figure size 432x288 with 1 Axes>"
      ]
     },
     "metadata": {
      "needs_background": "light"
     },
     "output_type": "display_data"
    }
   ],
   "source": [
    "plt.scatter(logz,logy)\n",
    "plt.title('Casos confirmados por temperatura média(escala logarítmica)')\n",
    "plt.xlabel('Temperatura média')\n",
    "plt.ylabel('Número de casos')\n",
    "plt.show()"
   ]
  },
  {
   "cell_type": "code",
   "execution_count": 183,
   "metadata": {},
   "outputs": [
    {
     "name": "stdout",
     "output_type": "stream",
     "text": [
      "Correlação entre número de casos e temperatura média em escala logarítmica: 0.5388718100967068\n"
     ]
    }
   ],
   "source": [
    "#CORRELAÇÃO COM A TEMPERATURA MÉDIA EM ESCALA LOGARÍTMICA\n",
    "log_corr_temp = train['log_casos-confirmados'].corr(train['log_temperatura-media'])\n",
    "print('Correlação entre número de casos e temperatura média em escala logarítmica:', log_corr_temp)"
   ]
  },
  {
   "cell_type": "markdown",
   "metadata": {},
   "source": [
    "Assim, uma nova analise das variáveis e parâmetros ficaria:"
   ]
  },
  {
   "cell_type": "code",
   "execution_count": 184,
   "metadata": {},
   "outputs": [
    {
     "data": {
      "text/html": [
       "<table class=\"simpletable\">\n",
       "<caption>OLS Regression Results</caption>\n",
       "<tr>\n",
       "  <th>Dep. Variable:</th>    <td>log_casos-confirmados</td> <th>  R-squared:         </th> <td>   0.309</td>\n",
       "</tr>\n",
       "<tr>\n",
       "  <th>Model:</th>                     <td>OLS</td>          <th>  Adj. R-squared:    </th> <td>   0.299</td>\n",
       "</tr>\n",
       "<tr>\n",
       "  <th>Method:</th>               <td>Least Squares</td>     <th>  F-statistic:       </th> <td>   31.06</td>\n",
       "</tr>\n",
       "<tr>\n",
       "  <th>Date:</th>               <td>Tue, 17 Nov 2020</td>    <th>  Prob (F-statistic):</th> <td>7.08e-12</td>\n",
       "</tr>\n",
       "<tr>\n",
       "  <th>Time:</th>                   <td>23:55:26</td>        <th>  Log-Likelihood:    </th> <td> -262.29</td>\n",
       "</tr>\n",
       "<tr>\n",
       "  <th>No. Observations:</th>        <td>   142</td>         <th>  AIC:               </th> <td>   530.6</td>\n",
       "</tr>\n",
       "<tr>\n",
       "  <th>Df Residuals:</th>            <td>   139</td>         <th>  BIC:               </th> <td>   539.5</td>\n",
       "</tr>\n",
       "<tr>\n",
       "  <th>Df Model:</th>                <td>     2</td>         <th>                     </th>     <td> </td>   \n",
       "</tr>\n",
       "<tr>\n",
       "  <th>Covariance Type:</th>        <td>nonrobust</td>       <th>                     </th>     <td> </td>   \n",
       "</tr>\n",
       "</table>\n",
       "<table class=\"simpletable\">\n",
       "<tr>\n",
       "            <td></td>               <th>coef</th>     <th>std err</th>      <th>t</th>      <th>P>|t|</th>  <th>[0.025</th>    <th>0.975]</th>  \n",
       "</tr>\n",
       "<tr>\n",
       "  <th>const</th>                 <td>  -22.3106</td> <td>    3.993</td> <td>   -5.588</td> <td> 0.000</td> <td>  -30.205</td> <td>  -14.416</td>\n",
       "</tr>\n",
       "<tr>\n",
       "  <th>log_temperatura-media</th> <td>    7.8834</td> <td>    1.365</td> <td>    5.774</td> <td> 0.000</td> <td>    5.184</td> <td>   10.583</td>\n",
       "</tr>\n",
       "<tr>\n",
       "  <th>log_chuva</th>             <td>    0.2576</td> <td>    0.134</td> <td>    1.928</td> <td> 0.056</td> <td>   -0.007</td> <td>    0.522</td>\n",
       "</tr>\n",
       "</table>\n",
       "<table class=\"simpletable\">\n",
       "<tr>\n",
       "  <th>Omnibus:</th>       <td> 5.616</td> <th>  Durbin-Watson:     </th> <td>   1.801</td>\n",
       "</tr>\n",
       "<tr>\n",
       "  <th>Prob(Omnibus):</th> <td> 0.060</td> <th>  Jarque-Bera (JB):  </th> <td>   5.752</td>\n",
       "</tr>\n",
       "<tr>\n",
       "  <th>Skew:</th>          <td> 0.472</td> <th>  Prob(JB):          </th> <td>  0.0564</td>\n",
       "</tr>\n",
       "<tr>\n",
       "  <th>Kurtosis:</th>      <td> 2.715</td> <th>  Cond. No.          </th> <td>    177.</td>\n",
       "</tr>\n",
       "</table><br/><br/>Warnings:<br/>[1] Standard Errors assume that the covariance matrix of the errors is correctly specified."
      ],
      "text/plain": [
       "<class 'statsmodels.iolib.summary.Summary'>\n",
       "\"\"\"\n",
       "                              OLS Regression Results                             \n",
       "=================================================================================\n",
       "Dep. Variable:     log_casos-confirmados   R-squared:                       0.309\n",
       "Model:                               OLS   Adj. R-squared:                  0.299\n",
       "Method:                    Least Squares   F-statistic:                     31.06\n",
       "Date:                   Tue, 17 Nov 2020   Prob (F-statistic):           7.08e-12\n",
       "Time:                           23:55:26   Log-Likelihood:                -262.29\n",
       "No. Observations:                    142   AIC:                             530.6\n",
       "Df Residuals:                        139   BIC:                             539.5\n",
       "Df Model:                              2                                         \n",
       "Covariance Type:               nonrobust                                         \n",
       "=========================================================================================\n",
       "                            coef    std err          t      P>|t|      [0.025      0.975]\n",
       "-----------------------------------------------------------------------------------------\n",
       "const                   -22.3106      3.993     -5.588      0.000     -30.205     -14.416\n",
       "log_temperatura-media     7.8834      1.365      5.774      0.000       5.184      10.583\n",
       "log_chuva                 0.2576      0.134      1.928      0.056      -0.007       0.522\n",
       "==============================================================================\n",
       "Omnibus:                        5.616   Durbin-Watson:                   1.801\n",
       "Prob(Omnibus):                  0.060   Jarque-Bera (JB):                5.752\n",
       "Skew:                           0.472   Prob(JB):                       0.0564\n",
       "Kurtosis:                       2.715   Cond. No.                         177.\n",
       "==============================================================================\n",
       "\n",
       "Warnings:\n",
       "[1] Standard Errors assume that the covariance matrix of the errors is correctly specified.\n",
       "\"\"\""
      ]
     },
     "execution_count": 184,
     "metadata": {},
     "output_type": "execute_result"
    }
   ],
   "source": [
    "y = train['log_casos-confirmados']\n",
    "X = train[['log_temperatura-media','log_chuva']]\n",
    "\n",
    "X = sm.add_constant(X)\n",
    "model = sm.OLS(y,X)\n",
    "results = model.fit()\n",
    "results.summary()"
   ]
  },
  {
   "cell_type": "markdown",
   "metadata": {},
   "source": [
    "A função que realiza a regressão linear múltipla é dada então por:"
   ]
  },
  {
   "cell_type": "code",
   "execution_count": 185,
   "metadata": {},
   "outputs": [],
   "source": [
    "parametros = results.params"
   ]
  },
  {
   "cell_type": "code",
   "execution_count": 186,
   "metadata": {},
   "outputs": [],
   "source": [
    "def regressao_multipla(temperatura, chuva):\n",
    "    y = parametros[0] + parametros[1] * temperatura + parametros[2] * chuva\n",
    "    return y\n"
   ]
  },
  {
   "cell_type": "markdown",
   "metadata": {},
   "source": [
    "### Performance do modelo"
   ]
  },
  {
   "cell_type": "code",
   "execution_count": 187,
   "metadata": {},
   "outputs": [],
   "source": [
    "def r2(real, previsto, media):    \n",
    "    num = 0 \n",
    "    den = 0\n",
    "    for e,i in zip(real,previsto):\n",
    "        num += (e-i)**2\n",
    "        den += (e-media)**2\n",
    "    coef = 1-(num/den)\n",
    "    return coef\n",
    "        \n",
    "def rms(real, previsto):\n",
    "    n = len(real)\n",
    "    somatoria = 0\n",
    "    for e,i in zip(real,previsto):\n",
    "        somatoria += (e-i)**2\n",
    "        i += 1\n",
    "    erro = ((1/n)*somatoria)**(1/2)\n",
    "    return erro"
   ]
  },
  {
   "cell_type": "markdown",
   "metadata": {},
   "source": [
    "#### Testando o modelo para os dados de treino"
   ]
  },
  {
   "cell_type": "code",
   "execution_count": 188,
   "metadata": {
    "scrolled": true
   },
   "outputs": [
    {
     "data": {
      "text/html": [
       "<div>\n",
       "<style scoped>\n",
       "    .dataframe tbody tr th:only-of-type {\n",
       "        vertical-align: middle;\n",
       "    }\n",
       "\n",
       "    .dataframe tbody tr th {\n",
       "        vertical-align: top;\n",
       "    }\n",
       "\n",
       "    .dataframe thead th {\n",
       "        text-align: right;\n",
       "    }\n",
       "</style>\n",
       "<table border=\"1\" class=\"dataframe\">\n",
       "  <thead>\n",
       "    <tr style=\"text-align: right;\">\n",
       "      <th></th>\n",
       "      <th>casos-confirmados-treino</th>\n",
       "      <th>casos-confirmados-previsao</th>\n",
       "    </tr>\n",
       "  </thead>\n",
       "  <tbody>\n",
       "    <tr>\n",
       "      <th>199</th>\n",
       "      <td>3.688879</td>\n",
       "      <td>2.183549</td>\n",
       "    </tr>\n",
       "    <tr>\n",
       "      <th>59</th>\n",
       "      <td>4.510860</td>\n",
       "      <td>4.470953</td>\n",
       "    </tr>\n",
       "    <tr>\n",
       "      <th>40</th>\n",
       "      <td>2.564949</td>\n",
       "      <td>2.184239</td>\n",
       "    </tr>\n",
       "    <tr>\n",
       "      <th>0</th>\n",
       "      <td>6.331502</td>\n",
       "      <td>4.619663</td>\n",
       "    </tr>\n",
       "    <tr>\n",
       "      <th>164</th>\n",
       "      <td>3.091042</td>\n",
       "      <td>2.547244</td>\n",
       "    </tr>\n",
       "  </tbody>\n",
       "</table>\n",
       "</div>"
      ],
      "text/plain": [
       "     casos-confirmados-treino  casos-confirmados-previsao\n",
       "199                  3.688879                    2.183549\n",
       "59                   4.510860                    4.470953\n",
       "40                   2.564949                    2.184239\n",
       "0                    6.331502                    4.619663\n",
       "164                  3.091042                    2.547244"
      ]
     },
     "execution_count": 188,
     "metadata": {},
     "output_type": "execute_result"
    }
   ],
   "source": [
    "df_treino = pd.DataFrame (columns = ['casos-confirmados-treino'])\n",
    "df_treino['casos-confirmados-treino'] = train['log_casos-confirmados']\n",
    "media_treino = df_treino['casos-confirmados-treino'].mean()    \n",
    "\n",
    "df_treino['casos-confirmados-previsao'] = train.apply(lambda x: regressao_multipla(x['log_temperatura-media'],x['log_chuva']),axis=1)\n",
    "df_treino.head()"
   ]
  },
  {
   "cell_type": "code",
   "execution_count": 189,
   "metadata": {},
   "outputs": [
    {
     "name": "stdout",
     "output_type": "stream",
     "text": [
      "DADOS DE TREINO\n",
      "Coeficiente de determinação(R²):  0.30885940527935385\n",
      "Raiz do erro médio quadrático(RMS):  1.534478430262031\n"
     ]
    }
   ],
   "source": [
    "coef_determinacao = r2(df_treino['casos-confirmados-treino'], df_treino['casos-confirmados-previsao'], media_treino)\n",
    "raiz_erro_medio = rms(df_treino['casos-confirmados-treino'], df_treino['casos-confirmados-previsao'])\n",
    "print('DADOS DE TREINO')\n",
    "print('Coeficiente de determinação(R²): ',coef_determinacao)\n",
    "print('Raiz do erro médio quadrático(RMS): ',raiz_erro_medio)"
   ]
  },
  {
   "cell_type": "markdown",
   "metadata": {},
   "source": [
    "#### Testando o modelo para os dados de teste"
   ]
  },
  {
   "cell_type": "markdown",
   "metadata": {},
   "source": [
    "Primeiro devemos colocar os dados de teste em escala logarítmica, assim como foi feito com os dados de treino"
   ]
  },
  {
   "cell_type": "code",
   "execution_count": 190,
   "metadata": {
    "scrolled": true
   },
   "outputs": [
    {
     "name": "stderr",
     "output_type": "stream",
     "text": [
      "C:\\Users\\nicol\\Anaconda3\\lib\\site-packages\\ipykernel_launcher.py:2: RuntimeWarning: divide by zero encountered in log\n",
      "  \n",
      "C:\\Users\\nicol\\Anaconda3\\lib\\site-packages\\ipykernel_launcher.py:2: SettingWithCopyWarning: \n",
      "A value is trying to be set on a copy of a slice from a DataFrame.\n",
      "Try using .loc[row_indexer,col_indexer] = value instead\n",
      "\n",
      "See the caveats in the documentation: http://pandas.pydata.org/pandas-docs/stable/indexing.html#indexing-view-versus-copy\n",
      "  \n",
      "C:\\Users\\nicol\\Anaconda3\\lib\\site-packages\\ipykernel_launcher.py:3: SettingWithCopyWarning: \n",
      "A value is trying to be set on a copy of a slice from a DataFrame.\n",
      "Try using .loc[row_indexer,col_indexer] = value instead\n",
      "\n",
      "See the caveats in the documentation: http://pandas.pydata.org/pandas-docs/stable/indexing.html#indexing-view-versus-copy\n",
      "  This is separate from the ipykernel package so we can avoid doing imports until\n",
      "C:\\Users\\nicol\\Anaconda3\\lib\\site-packages\\ipykernel_launcher.py:4: SettingWithCopyWarning: \n",
      "A value is trying to be set on a copy of a slice from a DataFrame.\n",
      "Try using .loc[row_indexer,col_indexer] = value instead\n",
      "\n",
      "See the caveats in the documentation: http://pandas.pydata.org/pandas-docs/stable/indexing.html#indexing-view-versus-copy\n",
      "  after removing the cwd from sys.path.\n"
     ]
    }
   ],
   "source": [
    "#log\n",
    "test['log_casos-confirmados']=np.log(test['casos-confirmados'])\n",
    "test['log_temperatura-media']=np.log(test['temperatura-media'])\n",
    "test['log_chuva']=np.log(test['chuva'])"
   ]
  },
  {
   "cell_type": "code",
   "execution_count": 191,
   "metadata": {},
   "outputs": [],
   "source": [
    "#FILTRANDO OS VALORES INFINITOS NOS CASOS CONFIRMADOS EM ESCALA LOG\n",
    "test = test.replace([np.inf, -np.inf], np.nan)\n",
    "test.dropna(subset = ['log_casos-confirmados'], inplace=True)"
   ]
  },
  {
   "cell_type": "markdown",
   "metadata": {},
   "source": [
    "Agora podemos testar o modelo com a base de teste"
   ]
  },
  {
   "cell_type": "code",
   "execution_count": 192,
   "metadata": {},
   "outputs": [
    {
     "data": {
      "text/html": [
       "<div>\n",
       "<style scoped>\n",
       "    .dataframe tbody tr th:only-of-type {\n",
       "        vertical-align: middle;\n",
       "    }\n",
       "\n",
       "    .dataframe tbody tr th {\n",
       "        vertical-align: top;\n",
       "    }\n",
       "\n",
       "    .dataframe thead th {\n",
       "        text-align: right;\n",
       "    }\n",
       "</style>\n",
       "<table border=\"1\" class=\"dataframe\">\n",
       "  <thead>\n",
       "    <tr style=\"text-align: right;\">\n",
       "      <th></th>\n",
       "      <th>casos-confirmados-teste</th>\n",
       "      <th>casos-confirmados-previsao</th>\n",
       "    </tr>\n",
       "  </thead>\n",
       "  <tbody>\n",
       "    <tr>\n",
       "      <th>110</th>\n",
       "      <td>7.768110</td>\n",
       "      <td>4.575983</td>\n",
       "    </tr>\n",
       "    <tr>\n",
       "      <th>143</th>\n",
       "      <td>5.517453</td>\n",
       "      <td>3.847227</td>\n",
       "    </tr>\n",
       "    <tr>\n",
       "      <th>157</th>\n",
       "      <td>7.091742</td>\n",
       "      <td>4.351889</td>\n",
       "    </tr>\n",
       "    <tr>\n",
       "      <th>46</th>\n",
       "      <td>5.411646</td>\n",
       "      <td>4.006370</td>\n",
       "    </tr>\n",
       "    <tr>\n",
       "      <th>74</th>\n",
       "      <td>0.000000</td>\n",
       "      <td>3.581920</td>\n",
       "    </tr>\n",
       "  </tbody>\n",
       "</table>\n",
       "</div>"
      ],
      "text/plain": [
       "     casos-confirmados-teste  casos-confirmados-previsao\n",
       "110                 7.768110                    4.575983\n",
       "143                 5.517453                    3.847227\n",
       "157                 7.091742                    4.351889\n",
       "46                  5.411646                    4.006370\n",
       "74                  0.000000                    3.581920"
      ]
     },
     "execution_count": 192,
     "metadata": {},
     "output_type": "execute_result"
    }
   ],
   "source": [
    "df_teste = pd.DataFrame (columns = ['casos-confirmados-teste'])\n",
    "df_teste['casos-confirmados-teste'] = test['log_casos-confirmados']\n",
    "media_teste = df_teste['casos-confirmados-teste'].mean()    \n",
    "\n",
    "df_teste['casos-confirmados-previsao'] = test.apply(lambda x: regressao_multipla(x['log_temperatura-media'],x['log_chuva']),axis=1)\n",
    "df_teste.head()"
   ]
  },
  {
   "cell_type": "code",
   "execution_count": 193,
   "metadata": {},
   "outputs": [
    {
     "name": "stdout",
     "output_type": "stream",
     "text": [
      "DADOS DE TESTE\n",
      "Coeficiente de determinação(R²):  0.2775008295168554\n",
      "Raiz do erro médio quadrático(RMS):  1.6914758801654866\n"
     ]
    }
   ],
   "source": [
    "coef_determinacao_teste = r2(df_teste['casos-confirmados-teste'], df_teste['casos-confirmados-previsao'], media_teste)\n",
    "raiz_erro_medio_teste = rms(df_teste['casos-confirmados-teste'], df_teste['casos-confirmados-previsao'])\n",
    "print('DADOS DE TESTE')\n",
    "print('Coeficiente de determinação(R²): ',coef_determinacao_teste)\n",
    "print('Raiz do erro médio quadrático(RMS): ',raiz_erro_medio_teste)"
   ]
  },
  {
   "cell_type": "markdown",
   "metadata": {},
   "source": [
    "### Modelo de árvore de regressão"
   ]
  },
  {
   "cell_type": "code",
   "execution_count": 194,
   "metadata": {},
   "outputs": [],
   "source": [
    "from sklearn.tree import DecisionTreeRegressor"
   ]
  },
  {
   "cell_type": "code",
   "execution_count": 195,
   "metadata": {},
   "outputs": [],
   "source": [
    "x = train.drop(['log_casos-confirmados','casos-confirmados','chuva','temperatura-media'],axis = 1)\n",
    "y = train['log_casos-confirmados']"
   ]
  },
  {
   "cell_type": "code",
   "execution_count": 196,
   "metadata": {},
   "outputs": [
    {
     "data": {
      "text/plain": [
       "DecisionTreeRegressor(criterion='mse', max_depth=None, max_features=None,\n",
       "                      max_leaf_nodes=None, min_impurity_decrease=0.0,\n",
       "                      min_impurity_split=None, min_samples_leaf=1,\n",
       "                      min_samples_split=2, min_weight_fraction_leaf=0.0,\n",
       "                      presort=False, random_state=None, splitter='best')"
      ]
     },
     "execution_count": 196,
     "metadata": {},
     "output_type": "execute_result"
    }
   ],
   "source": [
    "regressao = DecisionTreeRegressor()\n",
    "regressao.fit(x, y)"
   ]
  },
  {
   "cell_type": "code",
   "execution_count": 197,
   "metadata": {},
   "outputs": [],
   "source": [
    "x_teste = test.drop(['log_casos-confirmados','casos-confirmados','chuva','temperatura-media'],axis = 1)\n",
    "y_teste = test['log_casos-confirmados']"
   ]
  },
  {
   "cell_type": "code",
   "execution_count": 198,
   "metadata": {},
   "outputs": [
    {
     "data": {
      "text/html": [
       "<div>\n",
       "<style scoped>\n",
       "    .dataframe tbody tr th:only-of-type {\n",
       "        vertical-align: middle;\n",
       "    }\n",
       "\n",
       "    .dataframe tbody tr th {\n",
       "        vertical-align: top;\n",
       "    }\n",
       "\n",
       "    .dataframe thead th {\n",
       "        text-align: right;\n",
       "    }\n",
       "</style>\n",
       "<table border=\"1\" class=\"dataframe\">\n",
       "  <thead>\n",
       "    <tr style=\"text-align: right;\">\n",
       "      <th></th>\n",
       "      <th>Teste</th>\n",
       "      <th>Previsão</th>\n",
       "    </tr>\n",
       "  </thead>\n",
       "  <tbody>\n",
       "    <tr>\n",
       "      <th>110</th>\n",
       "      <td>7.768110</td>\n",
       "      <td>7.414573</td>\n",
       "    </tr>\n",
       "    <tr>\n",
       "      <th>143</th>\n",
       "      <td>5.517453</td>\n",
       "      <td>6.439350</td>\n",
       "    </tr>\n",
       "    <tr>\n",
       "      <th>157</th>\n",
       "      <td>7.091742</td>\n",
       "      <td>3.688879</td>\n",
       "    </tr>\n",
       "    <tr>\n",
       "      <th>46</th>\n",
       "      <td>5.411646</td>\n",
       "      <td>3.218876</td>\n",
       "    </tr>\n",
       "    <tr>\n",
       "      <th>74</th>\n",
       "      <td>0.000000</td>\n",
       "      <td>1.945910</td>\n",
       "    </tr>\n",
       "  </tbody>\n",
       "</table>\n",
       "</div>"
      ],
      "text/plain": [
       "        Teste  Previsão\n",
       "110  7.768110  7.414573\n",
       "143  5.517453  6.439350\n",
       "157  7.091742  3.688879\n",
       "46   5.411646  3.218876\n",
       "74   0.000000  1.945910"
      ]
     },
     "execution_count": 198,
     "metadata": {},
     "output_type": "execute_result"
    }
   ],
   "source": [
    "previsao = regressao.predict(x_teste)\n",
    "df_treino=pd.DataFrame({'Teste':y_teste, 'Previsão':previsao})\n",
    "df_treino.head()"
   ]
  }
 ],
 "metadata": {
  "kernelspec": {
   "display_name": "Python 3",
   "language": "python",
   "name": "python3"
  },
  "language_info": {
   "codemirror_mode": {
    "name": "ipython",
    "version": 3
   },
   "file_extension": ".py",
   "mimetype": "text/x-python",
   "name": "python",
   "nbconvert_exporter": "python",
   "pygments_lexer": "ipython3",
   "version": "3.7.3"
  }
 },
 "nbformat": 4,
 "nbformat_minor": 2
}
